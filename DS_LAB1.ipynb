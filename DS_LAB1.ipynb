{
 "cells": [
  {
   "cell_type": "code",
   "execution_count": 1,
   "id": "2b39f2ec-7644-4973-bb2b-a40a3b0375e4",
   "metadata": {},
   "outputs": [],
   "source": [
    "import requests\n",
    "import csv\n",
    "import pandas as pd"
   ]
  },
  {
   "cell_type": "code",
   "execution_count": 11,
   "id": "814e0788-8002-41f1-8438-cd0595f5cedf",
   "metadata": {},
   "outputs": [
    {
     "name": "stdout",
     "output_type": "stream",
     "text": [
      "job data saved to 'remote_jobs.csv'\n",
      "       Company Name Job Role                                Location  \\\n",
      "0   Bonfire Studios      N/A                           United States   \n",
      "1          Coins.ph      N/A  Taguig City, Metro Manila, Philippines   \n",
      "2            Aragon      N/A                       Remote - Anywhere   \n",
      "3  The Biz Conquest      N/A                                           \n",
      "4      Virta Health      N/A                                           \n",
      "\n",
      "                                                Tags  \n",
      "0                            3d, support, recruiting  \n",
      "1  manager, web3, crypto, cryptocurrencies, suppo...  \n",
      "2  web3, full-stack, technical, support, software...  \n",
      "3             dev, engineer, mobiledev, react native  \n",
      "4  software, frontend, security, training, full-s...  \n"
     ]
    }
   ],
   "source": [
    "def get_data():\n",
    "    api_request=(\"https://remoteok.com/api\")\n",
    "    headers={\"User-Agent\":\"Mozilla/5.0\"}\n",
    "    response=requests.get(api_request,headers=headers)\n",
    "    if response.status_code==200:\n",
    "        data=response.json()\n",
    "        job_testing=data[1:]\n",
    "        all_companies_data=[]\n",
    "        for jobs in job_testing:\n",
    "            company=jobs.get(\"company\",\"N/A\")\n",
    "            role=jobs.get(\"role\",\"N/A\")\n",
    "            location=jobs.get(\"location\",\"remote\")\n",
    "            tag_string=\", \".join(jobs.get(\"tags\",[]))\n",
    "            job_info={\n",
    "                \"Company Name\":company,\n",
    "                \"Job Role\":role,\n",
    "                \"Location\":location,\n",
    "                \"Tags\":tag_string\n",
    "            }\n",
    "            all_companies_data.append(job_info)\n",
    "        df=pd.DataFrame(all_companies_data)\n",
    "        df.to_csv(\"remote_jobs.csv\",index=False)\n",
    "        print(\"job data saved to 'remote_jobs.csv'\")\n",
    "        print(df.head())\n",
    "    else:\n",
    "        print(\"failed to retrive the data. Status Code:\",response.status_code)\n",
    "get_data()"
   ]
  },
  {
   "cell_type": "code",
   "execution_count": null,
   "id": "f5a89bb8-fbac-4210-b444-c7e1e347e9c2",
   "metadata": {},
   "outputs": [],
   "source": []
  }
 ],
 "metadata": {
  "kernelspec": {
   "display_name": "Python [conda env:base] *",
   "language": "python",
   "name": "conda-base-py"
  },
  "language_info": {
   "codemirror_mode": {
    "name": "ipython",
    "version": 3
   },
   "file_extension": ".py",
   "mimetype": "text/x-python",
   "name": "python",
   "nbconvert_exporter": "python",
   "pygments_lexer": "ipython3",
   "version": "3.12.7"
  }
 },
 "nbformat": 4,
 "nbformat_minor": 5
}
